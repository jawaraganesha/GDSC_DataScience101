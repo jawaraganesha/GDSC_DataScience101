{
  "cells": [
    {
      "cell_type": "markdown",
      "metadata": {
        "id": "ppdZuBGGcQvc"
      },
      "source": [
        "# Referensi yang Mungkin Berguna\n",
        "1. Tutorial pandas dan membuat grafik https://www.youtube.com/watch?v=dcqPhpY7tWk \n",
        "2. Tutorial pandas juga tapi tertulis https://www.geeksforgeeks.org/pandas-tutorial/ "
      ]
    },
    {
      "cell_type": "markdown",
      "metadata": {
        "id": "A594MM6jW6eR"
      },
      "source": [
        "# Baca data dari file .csv\n",
        "1. Unduh loan_sanction_train.csv dari https://www.kaggle.com/datasets/rishikeshkonapure/home-loan-approval \n",
        "2. Gunakan pandas untuk membaca file tersebut\n",
        "3. Print dataframe yang telah dibaca"
      ]
    },
    {
      "cell_type": "markdown",
      "metadata": {
        "id": "tUo0DyL7X4RK"
      },
      "source": [
        "# Filter dan sort\n",
        "1. Tampilkan data loan oleh seorang laki-laki!\n",
        "2. Urutkan data berdasar jumlah pinjaman!\n",
        "(cukup tampilkan hasil akhir dari dua perintah di atas)"
      ]
    },
    {
      "cell_type": "markdown",
      "metadata": {
        "id": "TY54uyfGYyBH"
      },
      "source": [
        "# Aggregating\n",
        "1. Hitung rata-rata pendapatan dari peminjam!\n",
        "2. Gender apa yang paling banyak mengajukan pinjaman, laki-laki atau perempuan?\n",
        "3. Hitung rata-rata pinjaman yang diajukan untuk masing-masing area properti! "
      ]
    },
    {
      "cell_type": "markdown",
      "metadata": {
        "id": "cxcKU1PEa_SE"
      },
      "source": [
        "# Membuat Grafik\n",
        "1. Buatlah histogram untuk penghasilan peminjam, beri judul grafik, dan label untuk tiap sumbu yang jelas!\n",
        "2. Buatlah pie chart untuk tingkat pendidikan para peminjam!"
      ]
    },
    {
      "cell_type": "code",
      "execution_count": null,
      "metadata": {},
      "outputs": [],
      "source": [
        "# IMPORT MODULE YANG DIBUTUHKAN\n",
        "import pandas as pd\n",
        "import matplotlib.pyplot as plt\n",
        "import ipywidgets"
      ]
    },
    {
      "cell_type": "code",
      "execution_count": null,
      "metadata": {},
      "outputs": [],
      "source": [
        "# BACA FILE CSV DAN SIMPAN DI VARIABEL (data)\n",
        "data = pd.read_csv(\"loan_sanction_train.csv\")\n",
        "\n",
        "# TAMPILKAN ISI DARI VARIABEL (data)\n",
        "print(data)"
      ]
    },
    {
      "cell_type": "code",
      "execution_count": null,
      "metadata": {},
      "outputs": [],
      "source": [
        "# FILTER DAN SORT NO. 1\n",
        "# FILTER DATA BERDASARKAN GENDER \n",
        "\n",
        "option_gender = [\"TOTAL\", \"Male\", \"Female\"]\n",
        "def preview_gender(Gender):\n",
        "    if Gender == \"TOTAL\":\n",
        "        male = len(data.loc[data[\"Gender\"] == \"Male\"])\n",
        "        female = len(data.loc[data[\"Gender\"] == \"Female\"])\n",
        "        total = male + female\n",
        "        label = [f\"Male - {male} - {round(male/total*100, 1)}%\", f\"Female - {female} - {round(female/total*100, 1)}%\"]\n",
        "        plt.title(\"DATA OF LOAN TAKERS - DIVIDED BY GENDER\")\n",
        "        plt.pie([male, female], labels = label)\n",
        "        plt.show()\n",
        "    else:\n",
        "        new_df = data.loc[data[\"Gender\"] == Gender]\n",
        "        txt = f\"DATA OF ({Gender}) LOAN TAKERS\\n\"\n",
        "        for i in new_df.columns.to_list():\n",
        "            if (i == \"ApplicantIncome\") or (i == \"CoapplicantIncome\"):\n",
        "                txt += f\"{i} (Rounded to the nearest hundreth) : \\n\"\n",
        "                rounded = dict()\n",
        "                for item in new_df[i].to_list():\n",
        "                    item = round(item/100)*100\n",
        "                    if item in rounded:\n",
        "                        rounded[item] += 1\n",
        "                    else:\n",
        "                        rounded[item] = 1\n",
        "                key_list = list(rounded.keys()) ; key_list.sort()\n",
        "                for i in key_list:\n",
        "                    txt += f\"{i} - {rounded[i]}\\n\"\n",
        "            elif (i != \"Loan_ID\") and (i != \"Gender\"):\n",
        "                txt += f\"{i} : \\n\"\n",
        "                x = new_df[i].value_counts().to_dict()\n",
        "                key_list = list(x.keys()) ; key_list.sort()\n",
        "                for i in key_list:\n",
        "                    txt += f\"{i} - {x[i]}\\n\"\n",
        "            txt += \"\\n\"\n",
        "        plt.text(0, 0, txt)\n",
        "        plt.axis(\"off\")\n",
        "        plt.show()\n",
        "ipywidgets.interact(preview_gender, Gender = option_gender)\n",
        "\n"
      ]
    },
    {
      "cell_type": "code",
      "execution_count": null,
      "metadata": {},
      "outputs": [],
      "source": [
        "# FILTER DAN SORT NO. 2\n",
        "# DATA DIURUTKAN BERDASARKAN COLUMN YANG DIPILIH\n",
        "option = data.columns.to_list()\n",
        "def sort_data(Value):\n",
        "    print(data.sort_values(by = Value))\n",
        "ipywidgets.interact(sort_data, Value = option)"
      ]
    },
    {
      "cell_type": "code",
      "execution_count": null,
      "metadata": {},
      "outputs": [],
      "source": [
        "# AGGREGATING NO. 1\n",
        "# MENGHITUNG RATA RATA PENDAPATAN DARI MASING MASING JENIS KOLOM \n",
        "option = data.columns.to_list() ; option.remove(\"ApplicantIncome\") ; option.remove(\"CoapplicantIncome\"); option.remove(\"Loan_ID\"); option.remove(\"LoanAmount\")\n",
        "def average_income(Value):\n",
        "    txt = f\"AVERAGE INCOME BASED ON ({Value}) COLUMN VALUE : \\n\"\n",
        "    x = list(data[Value].unique())\n",
        "    for i in x:\n",
        "        if not (i == i):\n",
        "            continue\n",
        "        avg_df = data.loc[data[Value] == i]\n",
        "        avg = avg_df[\"ApplicantIncome\"].mean()\n",
        "        txt += f\"{i} - {round(avg, 2)}\\n\"\n",
        "    print(txt)\n",
        "ipywidgets.interact(average_income, Value = option)\n",
        "    "
      ]
    },
    {
      "cell_type": "code",
      "execution_count": null,
      "metadata": {},
      "outputs": [],
      "source": [
        "# AGGREGATING NO. 2\n",
        "# FUNCTION UNTUK MENENTUKAN GENDER TERBANYAK DARI SEBUAH DATAFRAME YANG MEMILIKI KOLOM (Gender)\n",
        "def check_gender():\n",
        "    male = len(data.loc[data[\"Gender\"] == \"Male\"])\n",
        "    female = len(data.loc[data[\"Gender\"] == \"Female\"])\n",
        "    if male > female:\n",
        "        return f\"Male - {male}\"\n",
        "    elif male < female:\n",
        "        return f\"Female - {female}\"\n",
        "    else:\n",
        "        return \"Equal\"\n",
        "\n",
        "print(check_gender())\n"
      ]
    },
    {
      "cell_type": "code",
      "execution_count": null,
      "metadata": {},
      "outputs": [],
      "source": [
        "# AGGREGATING NO. 3\n",
        "# MENGHITUNG RATA RATA PINJAMAN YANG DIAJUKAN DARI MASING MASING JENIS KOLOM \n",
        "option = data.columns.to_list() ; option.remove(\"ApplicantIncome\") ; option.remove(\"CoapplicantIncome\"); option.remove(\"Loan_ID\"); option.remove(\"LoanAmount\")\n",
        "def average_loan(Value):\n",
        "    txt = f\"AVERAGE LOAN AMOUNT BASED ON ({Value}) COLUMN VALUE : \\n\"\n",
        "    x = list(data[Value].unique())\n",
        "    for i in x:\n",
        "        if not (i == i):\n",
        "            continue\n",
        "        avg_df = data.loc[data[Value] == i]\n",
        "        avg = avg_df[\"LoanAmount\"].mean()\n",
        "        txt += f\"{i} - {round(avg, 2)}\\n\"\n",
        "    print(txt)\n",
        "ipywidgets.interact(average_loan, Value = option)\n",
        "    \n"
      ]
    },
    {
      "cell_type": "code",
      "execution_count": 12,
      "metadata": {},
      "outputs": [
        {
          "data": {
            "application/vnd.jupyter.widget-view+json": {
              "model_id": "113e2624135141b29977bd569fd2e117",
              "version_major": 2,
              "version_minor": 0
            },
            "text/plain": [
              "interactive(children=(IntRangeSlider(value=(0, 10000), description='Range', max=81000, step=1000), Output()), …"
            ]
          },
          "metadata": {},
          "output_type": "display_data"
        },
        {
          "data": {
            "text/plain": [
              "<function __main__.income(Range)>"
            ]
          },
          "execution_count": 12,
          "metadata": {},
          "output_type": "execute_result"
        }
      ],
      "source": [
        "# MEMBUAT GRAFIK NO. 1\n",
        "def income(Range):\n",
        "    a = Range[0]; b = Range[1]\n",
        "    graph_data = data[\"ApplicantIncome\"].to_list()\n",
        "    xbins = [i for i in range(a,b+1000,1000)]\n",
        "    plt.title(\"INCOME OF APPLICANT\")\n",
        "    plt.xlabel(\"INCOME\")\n",
        "    plt.ylabel(\"TOTAL\")\n",
        "    plt.xticks(xbins)\n",
        "    plt.grid()\n",
        "    plt.hist(graph_data, density = False, bins = xbins, rwidth = 0.8)\n",
        "    plt.show()\n",
        "ipywidgets.interact(income, Range = ipywidgets.IntRangeSlider(min = 0, max = data[\"ApplicantIncome\"].max(), value = (0,10000), step = 1000))"
      ]
    },
    {
      "cell_type": "code",
      "execution_count": 14,
      "metadata": {},
      "outputs": [
        {
          "data": {
            "image/png": "[encoded data removed]",
            "text/plain": [
              "<Figure size 640x480 with 1 Axes>"
            ]
          },
          "metadata": {},
          "output_type": "display_data"
        }
      ],
      "source": [
        "# MEMBUAT GRAFIK NO. 3\n",
        "Graduate = len(data.loc[data[\"Education\"] == \"Graduate\"])\n",
        "Not_Graduate = len(data.loc[data[\"Education\"] == \"Not Graduate\"])\n",
        "total = Graduate + Not_Graduate\n",
        "label = [f\"Graduate - {Graduate} - {round(Graduate/total*100, 1)}%\", f\"Not Graduate - {Not_Graduate} - {round(Not_Graduate/total*100, 1)}%\"]\n",
        "plt.title(\"PIE CHART OF EDUCATIONAL BACKGROUND OF EACH APPLICANT\")\n",
        "plt.pie([Graduate, Not_Graduate], labels = label)\n",
        "plt.show()"
      ]
    }
  ],
  "metadata": {
    "colab": {
      "provenance": []
    },
    "kernelspec": {
      "display_name": "Python 3",
      "language": "python",
      "name": "python3"
    },
    "language_info": {
      "codemirror_mode": {
        "name": "ipython",
        "version": 3
      },
      "file_extension": ".py",
      "mimetype": "text/x-python",
      "name": "python",
      "nbconvert_exporter": "python",
      "pygments_lexer": "ipython3",
      "version": "3.10.4"
    },
    "vscode": {
      "interpreter": {
        "hash": "26de051ba29f2982a8de78e945f0abaf191376122a1563185a90213a26c5da77"
      }
    }
  },
  "nbformat": 4,
  "nbformat_minor": 0
}

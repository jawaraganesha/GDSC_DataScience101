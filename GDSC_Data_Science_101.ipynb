{
  "cells": [
    {
      "cell_type": "markdown",
      "metadata": {
        "id": "ppdZuBGGcQvc"
      },
      "source": [
        "# Referensi yang Mungkin Berguna\n",
        "1. Tutorial pandas dan membuat grafik https://www.youtube.com/watch?v=dcqPhpY7tWk \n",
        "2. Tutorial pandas juga tapi tertulis https://www.geeksforgeeks.org/pandas-tutorial/ "
      ]
    },
    {
      "cell_type": "markdown",
      "metadata": {
        "id": "A594MM6jW6eR"
      },
      "source": [
        "# Baca data dari file .csv\n",
        "1. Unduh loan_sanction_train.csv dari https://www.kaggle.com/datasets/rishikeshkonapure/home-loan-approval \n",
        "2. Gunakan pandas untuk membaca file tersebut\n",
        "3. Print dataframe yang telah dibaca"
      ]
    },
    {
      "cell_type": "markdown",
      "metadata": {
        "id": "tUo0DyL7X4RK"
      },
      "source": [
        "# Filter dan sort\n",
        "1. Tampilkan data loan oleh seorang laki-laki!\n",
        "2. Urutkan data berdasar jumlah pinjaman!\n",
        "(cukup tampilkan hasil akhir dari dua perintah di atas)"
      ]
    },
    {
      "cell_type": "markdown",
      "metadata": {
        "id": "TY54uyfGYyBH"
      },
      "source": [
        "# Aggregating\n",
        "1. Hitung rata-rata pendapatan dari peminjam!\n",
        "2. Gender apa yang paling banyak mengajukan pinjaman, laki-laki atau perempuan?\n",
        "3. Hitung rata-rata pinjaman yang diajukan untuk masing-masing area properti! "
      ]
    },
    {
      "cell_type": "markdown",
      "metadata": {
        "id": "cxcKU1PEa_SE"
      },
      "source": [
        "# Membuat Grafik\n",
        "1. Buatlah histogram untuk penghasilan peminjam, beri judul grafik, dan label untuk tiap sumbu yang jelas!\n",
        "2. Buatlah pie chart untuk tingkat pendidikan para peminjam!"
      ]
    },
    {
      "cell_type": "code",
      "execution_count": 9,
      "metadata": {},
      "outputs": [],
      "source": [
        "# IMPORT MODULE YANG DIBUTUHKAN\n",
        "import pandas as pd\n",
        "import matplotlib.pyplot as plt"
      ]
    },
    {
      "cell_type": "code",
      "execution_count": 10,
      "metadata": {},
      "outputs": [
        {
          "name": "stdout",
          "output_type": "stream",
          "text": [
            "      Loan_ID  Gender Married Dependents     Education Self_Employed  \\\n",
            "0    LP001002    Male      No          0      Graduate            No   \n",
            "1    LP001003    Male     Yes          1      Graduate            No   \n",
            "2    LP001005    Male     Yes          0      Graduate           Yes   \n",
            "3    LP001006    Male     Yes          0  Not Graduate            No   \n",
            "4    LP001008    Male      No          0      Graduate            No   \n",
            "..        ...     ...     ...        ...           ...           ...   \n",
            "609  LP002978  Female      No          0      Graduate            No   \n",
            "610  LP002979    Male     Yes         3+      Graduate            No   \n",
            "611  LP002983    Male     Yes          1      Graduate            No   \n",
            "612  LP002984    Male     Yes          2      Graduate            No   \n",
            "613  LP002990  Female      No          0      Graduate           Yes   \n",
            "\n",
            "     ApplicantIncome  CoapplicantIncome  LoanAmount  Loan_Amount_Term  \\\n",
            "0               5849                0.0         NaN             360.0   \n",
            "1               4583             1508.0       128.0             360.0   \n",
            "2               3000                0.0        66.0             360.0   \n",
            "3               2583             2358.0       120.0             360.0   \n",
            "4               6000                0.0       141.0             360.0   \n",
            "..               ...                ...         ...               ...   \n",
            "609             2900                0.0        71.0             360.0   \n",
            "610             4106                0.0        40.0             180.0   \n",
            "611             8072              240.0       253.0             360.0   \n",
            "612             7583                0.0       187.0             360.0   \n",
            "613             4583                0.0       133.0             360.0   \n",
            "\n",
            "     Credit_History Property_Area Loan_Status  \n",
            "0               1.0         Urban           Y  \n",
            "1               1.0         Rural           N  \n",
            "2               1.0         Urban           Y  \n",
            "3               1.0         Urban           Y  \n",
            "4               1.0         Urban           Y  \n",
            "..              ...           ...         ...  \n",
            "609             1.0         Rural           Y  \n",
            "610             1.0         Rural           Y  \n",
            "611             1.0         Urban           Y  \n",
            "612             1.0         Urban           Y  \n",
            "613             0.0     Semiurban           N  \n",
            "\n",
            "[614 rows x 13 columns]\n"
          ]
        }
      ],
      "source": [
        "# BACA FILE CSV DAN SIMPAN DI VARIABEL (data)\n",
        "data = pd.read_csv(\"loan_sanction_train.csv\")\n",
        "\n",
        "# TAMPILKAN ISI DARI VARIABEL (data)\n",
        "print(data)"
      ]
    },
    {
      "cell_type": "code",
      "execution_count": 14,
      "metadata": {},
      "outputs": [
        {
          "data": {
            "image/png": "[encoded data removed]",
            "text/plain": [
              "<Figure size 640x480 with 1 Axes>"
            ]
          },
          "metadata": {},
          "output_type": "display_data"
        }
      ],
      "source": [
        "# FILTER DATA BERDASARKAN GENDER \n",
        "# def preview_gender(gender):\n",
        "\n",
        "male = len(data.loc[data[\"Gender\"] == \"Male\"])\n",
        "female = len(data.loc[data[\"Gender\"] == \"Female\"])\n",
        "total = male + female\n",
        "label = [f\"Male - {male} - {round(male/total*100, 1)}%\", f\"Female - {female} - {round(female/total*100, 1)}%\"]\n",
        "plt.title(\"DATA OF LOAN TAKERS - DIVIDED BY GENDER\")\n",
        "plt.pie([male, female], labels = label)\n",
        "plt.show()"
      ]
    }
  ],
  "metadata": {
    "colab": {
      "provenance": []
    },
    "kernelspec": {
      "display_name": "Python 3",
      "language": "python",
      "name": "python3"
    },
    "language_info": {
      "codemirror_mode": {
        "name": "ipython",
        "version": 3
      },
      "file_extension": ".py",
      "mimetype": "text/x-python",
      "name": "python",
      "nbconvert_exporter": "python",
      "pygments_lexer": "ipython3",
      "version": "3.10.4"
    },
    "vscode": {
      "interpreter": {
        "hash": "26de051ba29f2982a8de78e945f0abaf191376122a1563185a90213a26c5da77"
      }
    }
  },
  "nbformat": 4,
  "nbformat_minor": 0
}
